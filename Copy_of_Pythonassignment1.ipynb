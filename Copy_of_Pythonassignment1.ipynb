{
  "nbformat": 4,
  "nbformat_minor": 0,
  "metadata": {
    "colab": {
      "provenance": [],
      "include_colab_link": true
    },
    "kernelspec": {
      "name": "python3",
      "display_name": "Python 3"
    },
    "language_info": {
      "name": "python"
    }
  },
  "cells": [
    {
      "cell_type": "markdown",
      "metadata": {
        "id": "view-in-github",
        "colab_type": "text"
      },
      "source": [
        "<a href=\"https://colab.research.google.com/github/aditidiwate/Pythonassignment1/blob/main/Copy_of_Pythonassignment1.ipynb\" target=\"_parent\"><img src=\"https://colab.research.google.com/assets/colab-badge.svg\" alt=\"Open In Colab\"/></a>"
      ]
    },
    {
      "cell_type": "code",
      "execution_count": null,
      "metadata": {
        "colab": {
          "base_uri": "https://localhost:8080/"
        },
        "id": "KP5OFA7je2U_",
        "outputId": "d85049fc-f7f8-4aa2-8aca-30861f80a745"
      },
      "outputs": [
        {
          "output_type": "stream",
          "name": "stdout",
          "text": [
            "Merged String: abcpqr\n"
          ]
        }
      ],
      "source": [
        "def merge_strings(word1, word2):\n",
        "    return word1 + word2\n",
        "\n",
        "word1 = \"abc\"\n",
        "word2 = \"pqr\"\n",
        "result = merge_strings(word1, word2)\n",
        "print(\"Merged String:\", result)"
      ]
    },
    {
      "cell_type": "code",
      "source": [
        "def merge_words(word1, word2):\n",
        "    result = ''.join(a + b for a, b in zip(word1, word2))  # Interleave characters\n",
        "    result += word1[len(word2):] + word2[len(word1):]  # Append remaining characters\n",
        "    return result\n",
        "\n",
        "word1 = \"ab\"\n",
        "word2 = \"pqrs\"\n",
        "output = merge_words(word1, word2)\n",
        "print(output)"
      ],
      "metadata": {
        "colab": {
          "base_uri": "https://localhost:8080/"
        },
        "id": "5TKYgh5Li0G2",
        "outputId": "309dee6d-db49-4857-f9cf-0bbed3ea8366"
      },
      "execution_count": null,
      "outputs": [
        {
          "output_type": "stream",
          "name": "stdout",
          "text": [
            "apbqrs\n"
          ]
        }
      ]
    },
    {
      "cell_type": "code",
      "source": [
        "word1, word2 = \"abcd\", \"pq\"\n",
        "print(''.join(a + b for a, b in zip(word1, word2)) + word1[len(word2):])"
      ],
      "metadata": {
        "id": "gOfPrmz1jsqF",
        "colab": {
          "base_uri": "https://localhost:8080/"
        },
        "outputId": "5761236e-38ec-4c12-a2fa-20debae4a61c"
      },
      "execution_count": null,
      "outputs": [
        {
          "output_type": "stream",
          "name": "stdout",
          "text": [
            "apbqcd\n"
          ]
        }
      ]
    },
    {
      "cell_type": "code",
      "source": [
        "def find_common_substring(str1, str2):\n",
        "    return str2 if str2 in str1 else \"\"\n",
        "\n",
        "str1 = \"ABCABC\"\n",
        "str2 = \"ABC\"\n",
        "output = find_common_substring(str1, str2)\n",
        "print(output)"
      ],
      "metadata": {
        "colab": {
          "base_uri": "https://localhost:8080/"
        },
        "id": "c6iArWaal8h0",
        "outputId": "08576034-9997-41ea-870f-3fbc7b0003d0"
      },
      "execution_count": null,
      "outputs": [
        {
          "output_type": "stream",
          "name": "stdout",
          "text": [
            "ABC\n"
          ]
        }
      ]
    },
    {
      "cell_type": "code",
      "source": [
        "from math import gcd\n",
        "\n",
        "gcd_of_strings = lambda a, b: a[:gcd(len(a), len(b))] if a + b == b + a else \"\"\n",
        "print(gcd_of_strings(\"ABABAB\", \"ABAB\"))"
      ],
      "metadata": {
        "colab": {
          "base_uri": "https://localhost:8080/"
        },
        "id": "8B5r-85gmek2",
        "outputId": "36c602c9-f839-45e7-c763-f9e3776fa3d2"
      },
      "execution_count": null,
      "outputs": [
        {
          "output_type": "stream",
          "name": "stdout",
          "text": [
            "AB\n"
          ]
        }
      ]
    },
    {
      "cell_type": "code",
      "source": [
        "    import math\n",
        "    def gcd_of_strings(str1, str2):\n",
        "      if str1+ str2 != str2 + str1:\n",
        "       return \"\"\n",
        "      gcd_length = math.gcd(len(str1),len(str2))\n",
        "      return str1[:gcd_length]\n",
        "    str1 = \"LEET\"\n",
        "    str2 = \"CODE\"\n",
        "\n",
        "print(gcd_of_strings(str1, str2))"
      ],
      "metadata": {
        "colab": {
          "base_uri": "https://localhost:8080/"
        },
        "id": "-qo0zgXyngbW",
        "outputId": "feb06b2d-4443-4480-98c9-15729a8da658"
      },
      "execution_count": null,
      "outputs": [
        {
          "output_type": "stream",
          "name": "stdout",
          "text": [
            "\n"
          ]
        }
      ]
    }
  ]
}